{
 "cells": [
  {
   "cell_type": "markdown",
   "metadata": {},
   "source": [
    "# Paper Summarizer "
   ]
  },
  {
   "cell_type": "code",
   "execution_count": 1,
   "metadata": {},
   "outputs": [
    {
     "name": "stdout",
     "output_type": "stream",
     "text": [
      "All libraries imported successfully\n"
     ]
    }
   ],
   "source": [
    "# Import statements\n",
    "import os\n",
    "import requests\n",
    "from dotenv import load_dotenv\n",
    "from IPython.display import Markdown, display\n",
    "from openai import OpenAI\n",
    "from io import BytesIO\n",
    "from PyPDF2 import PdfReader\n",
    "\n",
    "print(\"All libraries imported successfully\")"
   ]
  },
  {
   "cell_type": "code",
   "execution_count": 3,
   "metadata": {},
   "outputs": [
    {
     "name": "stdout",
     "output_type": "stream",
     "text": [
      "\u001b[?25lpulling manifest ⠋ \u001b[?25h\u001b[?25l\u001b[2K\u001b[1Gpulling manifest ⠙ \u001b[?25h\u001b[?25l\u001b[2K\u001b[1Gpulling manifest ⠹ \u001b[?25h\u001b[?25l\u001b[2K\u001b[1Gpulling manifest ⠸ \u001b[?25h\u001b[?25l\u001b[2K\u001b[1Gpulling manifest ⠼ \u001b[?25h\u001b[?25l\u001b[2K\u001b[1Gpulling manifest ⠴ \u001b[?25h\u001b[?25l\u001b[2K\u001b[1Gpulling manifest \n",
      "pulling dde5aa3fc5ff... 100% ▕████████████████▏ 2.0 GB                         \n",
      "pulling 966de95ca8a6... 100% ▕████████████████▏ 1.4 KB                         \n",
      "pulling fcc5a6bec9da... 100% ▕████████████████▏ 7.7 KB                         \n",
      "pulling a70ff7e570d9... 100% ▕████████████████▏ 6.0 KB                         \n",
      "pulling 56bb8bd477a5... 100% ▕████████████████▏   96 B                         \n",
      "pulling 34bb5ab01051... 100% ▕████████████████▏  561 B                         \n",
      "verifying sha256 digest \n",
      "writing manifest \n",
      "success \u001b[?25h\n"
     ]
    }
   ],
   "source": [
    "!ollama pull llama3.2"
   ]
  },
  {
   "cell_type": "code",
   "execution_count": 45,
   "metadata": {},
   "outputs": [],
   "source": [
    "# Create instanqce of OpenAI class\n",
    "openai = OpenAI(base_url = 'http://localhost:11434/v1',\n",
    "                api_key = 'ollama')"
   ]
  },
  {
   "cell_type": "code",
   "execution_count": 46,
   "metadata": {},
   "outputs": [],
   "source": [
    "# Create article class\n",
    "class Article:\n",
    "    def __init__(self, url):\n",
    "        '''\n",
    "        Creates an article object from the given URL.\n",
    "        '''\n",
    "        self.url = url \n",
    "        response = requests.get(self.url)\n",
    "        if response.status_code == 200:\n",
    "            pdf_bytes = BytesIO(response.content)\n",
    "            reader = PdfReader(pdf_bytes)\n",
    "            \n",
    "            text = ''\n",
    "            for page in reader.pages:\n",
    "                text += page.extract_text()\n",
    "                \n",
    "            self.text = text\n",
    "            self.title = reader.metadata.get('/Title', 'No title found')\n",
    "        else:\n",
    "            print(f'Failed to fetch PDF. Error code: {response.status_code}')\n",
    "            self.text = 'No text found'\n",
    "            self.title = 'No title found'"
   ]
  },
  {
   "cell_type": "code",
   "execution_count": 47,
   "metadata": {},
   "outputs": [],
   "source": [
    "# Create prompts\n",
    "def craft_user_prompt(article):\n",
    "    user_prompt = f'You are looking at a research article titled {article.title}.\\n Based on the body of this article, please summarize this whole article. \\\n",
    "        The body of the article is as follows.'\n",
    "    user_prompt += article.text\n",
    "    return user_prompt"
   ]
  },
  {
   "cell_type": "code",
   "execution_count": 54,
   "metadata": {},
   "outputs": [],
   "source": [
    "# Make messages list\n",
    "def create_messages(article):\n",
    "    system_prompt = 'You are an AI assistant that analyses the contents of research articles and generate summary of whole article in 250 words or less. \\\n",
    "        Ignore text that does not belong to the article, like headers or navigation related text. Respond in markdown format.'\n",
    "    return [\n",
    "        {'role': 'system', 'content': system_prompt},\n",
    "        {'role': 'user', 'content': craft_user_prompt(article)}\n",
    "    ]"
   ]
  },
  {
   "cell_type": "code",
   "execution_count": 55,
   "metadata": {},
   "outputs": [],
   "source": [
    "# Step 3: Call OpenAI\n",
    "def summarize(url):\n",
    "    article = Article(url)\n",
    "    response = openai.chat.completions.create(\n",
    "        model = \"llama3.2\",\n",
    "        messages = create_messages(article)\n",
    "    )\n",
    "    return response.choices[0].message.content"
   ]
  },
  {
   "cell_type": "code",
   "execution_count": 59,
   "metadata": {},
   "outputs": [
    {
     "data": {
      "text/markdown": [
       "The provided text appears to be a review article on microRNAs in cancer biology, focusing on their role as diagnostic and prognostic biomarkers, therapeutic targets, and future directions for research. The paper discusses the unique characteristics of microRNAs, including their biogenesis, stability, and regulation.\n",
       "\n",
       "Here's an overview of the content and structure:\n",
       "\n",
       "**Introduction**\n",
       "\n",
       "The article begins with introducing microRNAs as crucial regulatory molecules in cancer biology. It highlights their pleiotropic roles and challenges associated with studying them.\n",
       "\n",
       "**Biogenesis and Stability**\n",
       "\n",
       "The review discusses the biogenesis and stability of microRNAs, including the key processes that regulate their expression and degradation.\n",
       "\n",
       "**MicroRNAs as Diagnostic and Prognostic Biomarkers**\n",
       "\n",
       "The authors examine the potential of microRNAs as biomarkers for various cancers. They discuss the importance of identifying specific microRNAs that can diagnose cancer at early stages or monitor its progression.\n",
       "\n",
       "**Therapeutic Targets and Treatment of Cancer**\n",
       "\n",
       "The paper explores the therapeutic applications of microRNAs in cancer, including their use as targeted therapies, imaging agents, and chemotherapeutic agents.\n",
       "\n",
       "**Future Directions for Research**\n",
       "\n",
       "The review discusses potential future directions for research on microRNAs in cancer biology. It emphasizes the need for comprehensive studies to fully understand their functions and mechanisms in various tumors.\n",
       "\n",
       "**Conclusion**\n",
       "\n",
       "The article concludes by summarizing the main points made earlier and highlighting the significance of microRNAs in understanding cancer biology.\n",
       "\n",
       "**References**\n",
       "\n",
       "A comprehensive list of references is included, featuring a vast array of papers and publications on microRNAs in cancer research.\n",
       "\n",
       "**Acknowlegements and Funding Sources**\n",
       "\n",
       "A note acknowledges the funding sources that supported this review, including grants from the National Natural Science Foundation of China (NSFC) and science organizations.\n",
       "\n",
       "**Author Contributions**\n",
       "\n",
       "It's clear who contributed to this article: Taewan Kim and Carlo M. Croce.\n",
       "\n",
       "**Conflict of Interest**\n",
       "\n",
       "No potential conflicts are disclosed, ensuring transparency in the research.\n",
       "\n",
       "The provided information allows us to infer that this article provides a comprehensive overview of microRNAs' role in cancer biology, emphasizing their therapeutic applications, diagnostic potential, and future directions for research.\n",
       "\n",
       "To provide more specific analysis or identify areas requiring further exploration would require careful examination of the content and connections between various sections."
      ],
      "text/plain": [
       "<IPython.core.display.Markdown object>"
      ]
     },
     "metadata": {},
     "output_type": "display_data"
    }
   ],
   "source": [
    "# Step 4: Print the result of an example pdf\n",
    "summary = summarize('https://www.nature.com/articles/s12276-023-01050-9.pdf')\n",
    "display(Markdown(summary))"
   ]
  }
 ],
 "metadata": {
  "kernelspec": {
   "display_name": "pdf_summarizer",
   "language": "python",
   "name": "python3"
  },
  "language_info": {
   "codemirror_mode": {
    "name": "ipython",
    "version": 3
   },
   "file_extension": ".py",
   "mimetype": "text/x-python",
   "name": "python",
   "nbconvert_exporter": "python",
   "pygments_lexer": "ipython3",
   "version": "3.11.11"
  }
 },
 "nbformat": 4,
 "nbformat_minor": 2
}
